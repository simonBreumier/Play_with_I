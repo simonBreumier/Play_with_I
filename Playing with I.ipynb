{
 "cells": [
  {
   "cell_type": "markdown",
   "metadata": {},
   "source": [
    "# Playing with $I$\n",
    "----\n",
    "\n",
    "Let's say we have the following function :\n",
    "\\begin{equation}\n",
    "f^1_{a,b}(t) = a \\cdot b \\cdot t^2,\n",
    "\\end{equation}\n",
    "with $a$ and $b$ two parameters. We want to find the values of $a$ and $b$ so that $f$ matches some experimental data. For the sake of this example, \"experimental data\" will be numerically generated using $\\{a, b\\} = \\{2, 2\\}$.\n",
    "\n",
    "Solving this inverse problem is equivalent to solve the following equation:\n",
    "\\begin{equation}\n",
    "a \\cdot b \\cdot t^2 = 4 \\cdot t^2,\n",
    "\\end{equation}\n",
    "which has an infinite number of solutions. The problem is therefore ill-posed.\n",
    "\n",
    "Alternatively, if the function to minimize was for instance:\n",
    "\\begin{equation}\n",
    "f^2_{a,b}(t) = a + (b/10) \\cdot t^2,\n",
    "\\end{equation}\n",
    "\n",
    "Then a unique solution could be found.\n",
    "\n",
    "Another way to visualise this is to plot the cost function of the problem *e.g.* the function we were trying to minimize:\n",
    "\\begin{equation}\n",
    "\\Psi(a, b) = \\sqrt{\\frac{1}{T}\\sum_{t=0}^T  (f_{a, b}(t) - f_{2,2}(t))^2}.\n",
    "\\end{equation}\n",
    "\n",
    "Which could be done in python:"
   ]
  },
  {
   "cell_type": "code",
   "execution_count": 4,
   "metadata": {},
   "outputs": [
    {
     "data": {
      "image/png": "[encoded data removed]",
      "text/plain": [
       "<Figure size 432x288 with 2 Axes>"
      ]
     },
     "metadata": {
      "needs_background": "light"
     },
     "output_type": "display_data"
    },
    {
     "data": {
      "application/vnd.jupyter.widget-view+json": {
       "model_id": "f74e9bc55c34461aa744856ccab4d967",
       "version_major": 2,
       "version_minor": 0
      },
      "text/plain": [
       "interactive(children=(FloatSlider(value=10.0, description='k', max=10.0, min=1.0, step=1.0), Output()), _dom_c…"
      ]
     },
     "metadata": {},
     "output_type": "display_data"
    }
   ],
   "source": [
    "from __future__ import print_function\n",
    "import numpy as np\n",
    "import matplotlib.pyplot as plt\n",
    "import math\n",
    "from ipywidgets import interact, interactive, fixed, interact_manual\n",
    "import ipywidgets as widgets\n",
    "\n",
    "def test_fun(a, b, x, funNum,k):\n",
    "    '''Basic test function with two parameters a and b'''\n",
    "    if funNum == 1:\n",
    "        return a * b * x**2\n",
    "    else:\n",
    "        return a + (b/k) * x**2\n",
    "    \n",
    "def plot_costFun(funNum=2, k=10.):\n",
    "    a=2\n",
    "    b=2\n",
    "    T=100\n",
    "    t = np.linspace(0,5,T)\n",
    "    U = test_fun(a, b, t, funNum,k)\n",
    "    a_grid = np.linspace(1.,5.,100)\n",
    "    b_grid = np.linspace(1.,5.,100)\n",
    "    A, B = np.meshgrid(a_grid, b_grid)\n",
    "    costFun = np.zeros((100, 100))\n",
    "    for i in range(0, 100):\n",
    "        for j in range(0, 100):\n",
    "            funVal = test_fun(A[i,j], B[i,j], t, funNum,k)\n",
    "            costFun[i, j] = math.sqrt(np.sum((funVal - U)**2)/T)\n",
    "    \n",
    "    plt.contourf(A, B, np.log(costFun), 50)\n",
    "    plt.xlabel(\"Parameter a\")\n",
    "    plt.ylabel(\"Parameter b\")\n",
    "    plt.title(\"Log of the cost function \"+str(funNum))\n",
    "    plt.colorbar()\n",
    "    \n",
    "\n",
    "plot_costFun(1, 10)\n",
    "interact(plot_costFun,funNum=fixed(2), k=(1.,10.,1.))\n",
    "plt.show()\n",
    "plt.close()"
   ]
  },
  {
   "cell_type": "markdown",
   "metadata": {},
   "source": [
    "As you can see function 1 presents an infinite number of minima while function 2 has a unique minima. \n",
    "\n",
    "Plotting the cost function is therefore a good alternative when it's difficult to prove the problem well-posedness mathematically.\n",
    "\n",
    "Also, when the problem is solved using minimization algorithm, having a unique minima is not always sufficient to find a good solution. To understand this, let's change the definition of function 2 a bit :\n",
    "\\begin{equation}\n",
    "f^2_{a,b}(t) = a + (b/k) \\cdot t^2,\n",
    "\\end{equation}\n",
    "If you move the slider above function 2, the value of $k$ will change. You can see that for small values of $k$, the influence of parametr $b$ is more pronounced than that of parameter $a$. This results in a stretched cost function with, once again, a solution valley. Even though this problem has a unique solution, gradient based numerical optimization algorithm will therefore hardly converge to a unique value for different initial guesses."
   ]
  },
  {
   "cell_type": "markdown",
   "metadata": {},
   "source": [
    "## The identifiability indicator $I$\n",
    "----\n",
    "\n",
    "In practice, one cannot always plot the cost function of the problem as single function evaluation can be time consuming (for instance, for inverse identification using Finite Element Analyses).\n",
    "\n",
    "In such cases, one can alternatively use indicators of the cost function convexity close to the solution such as:\n",
    "\\begin{equation}\n",
    "\t\tI = \\log_{10} \\left(\\frac{\\lambda_{max}}{\\lambda_{min}}\\right),\n",
    "\\end{equation}\n",
    "where $\\lambda_{max}$ and $\\lambda_{min}$ are respectively the maximum and minimum eigenvalues of the cost function Hessian matrix close to the solution, which could be approximated as:\n",
    "\\begin{equation}\n",
    "  \t\\overline{H}_{ij} = \\sum_{t=0}^T \\frac{\\partial \\overline{f}(t)}{\\partial \\overline{p_i}} \\frac{\\partial \\overline{f}(t)}{\\partial \\overline{p_j}},\n",
    "\\end{equation}\n",
    "where $p$ is the parameter vector (in our case $p=\\{a, b\\}$). For a 2D cost function with an elliptic shape, $I$ can be understood as the ratio of the two principal axes of the ellipse. Therefore the larger the value of $I$, the more the cost function will be stretched in one direction and the problem will be ill-posed. For Levenberg-Marquardt optimisation, $I$ is usually considered good when it is smaller than 2.\n",
    "\n",
    "In the above, $\\frac{\\partial \\overline{f}(t)}{\\partial \\overline{p_i}}$ is the dimensionless sensitivity of the function $f$ to a variation of parameter $p_i$. To understand why we use a dimensionless definition of $f$, imagine the case where we want to find parameters using experimental data of different nature, such as Stress and Displacements. As Stress values are usually higher than displacements, optimization would be driven by the Stress data if the function was not adimensioned. \n",
    "\n",
    "Usually, function $f$ is rendered dimensionless simply by dividing it by its uncertainty. If one considers a constant uncertainty value, we could define the sensitivity of function $f$ to a variation $\\epsilon$ of parameter $p_i$ as:\n",
    "\\begin{equation}\n",
    "\\frac{\\partial \\overline{f}(t)}{\\partial \\overline{p_i}} = \\frac{1}{\\epsilon \\sqrt{T} max_t(f^1)} (f_{(1+\\epsilon)p_i}(t) - f_{p_i}(t))\n",
    "\\end{equation}\n",
    "\n",
    "Here, normalization by $\\sqrt{T}$ provides a definition of the sensitivity consistent with the way we defined our cost function above (*eg* the quadratic mean of the difference). It is also important to assure that our sensitivity does not depend on the number of acquisition points.\n",
    "\n",
    "As $t$ is usually composed of a finite number of values, the sensitivity can be seen as a vector with a finite number of parameters.\n",
    "\n",
    "Let's now compute the values of $I$ for the two functions defined above !"
   ]
  },
  {
   "cell_type": "code",
   "execution_count": 5,
   "metadata": {},
   "outputs": [
    {
     "name": "stdout",
     "output_type": "stream",
     "text": [
      "I (f1): 16.17\n"
     ]
    },
    {
     "data": {
      "image/png": "[encoded data removed]",
      "text/plain": [
       "<Figure size 432x288 with 2 Axes>"
      ]
     },
     "metadata": {
      "needs_background": "light"
     },
     "output_type": "display_data"
    },
    {
     "data": {
      "application/vnd.jupyter.widget-view+json": {
       "model_id": "d75c3ad544e54bec9e30e58c534fb803",
       "version_major": 2,
       "version_minor": 0
      },
      "text/plain": [
       "interactive(children=(FloatSlider(value=10.0, description='k', max=10.0, min=0.1, step=1.0), Output()), _dom_c…"
      ]
     },
     "metadata": {},
     "output_type": "display_data"
    },
    {
     "data": {
      "text/plain": [
       "<function __main__.function2(k=10.0)>"
      ]
     },
     "execution_count": 5,
     "metadata": {},
     "output_type": "execute_result"
    }
   ],
   "source": [
    "def comp_I_bin(dXdT):\n",
    "    '''Computes the identifiability indicator from a given sensitivity matrix'''\n",
    "    numVars = dXdT.shape[0]\n",
    "    H = np.zeros((numVars, numVars))\n",
    "    T = dXdT.shape[1]\n",
    "    for i in range(0,numVars):\n",
    "        for j in range(0,numVars):\n",
    "            H[i,j] = np.nansum(dXdT[i]*dXdT[j])\n",
    "\n",
    "    lams = np.linalg.eigvals(H)\n",
    "    I = np.log10(np.max(lams)/np.min(lams))\n",
    "    return I\n",
    "\n",
    "def comp_sensi_vector(funNum=1,k=10):\n",
    "    a = 2.\n",
    "    b = 2.  \n",
    "    w = math.pi*8\n",
    "    T = 100\n",
    "    eps = 0.05\n",
    "    t = np.linspace(0,5,T)\n",
    "    U = test_fun(a, b, t, funNum, k)\n",
    "    U_5pc_a = test_fun((1.+eps)*a, b, t, funNum, k)\n",
    "    U_5pc_b = test_fun(a, (1.+eps) * b, t, funNum, k)\n",
    "    \n",
    "    dSdX = np.zeros((2,T))\n",
    "    dSdX[0,:] = (U_5pc_a - U)/(eps * math.sqrt(T) * np.max(U))\n",
    "    dSdX[1,:] = (U_5pc_b - U)/(eps * math.sqrt(T) * np.max(U))\n",
    "    \n",
    "    I = comp_I_bin(dSdX)\n",
    "    print(\"I (f\"+str(funNum)+\"): {:.02f}\".format(I))\n",
    "\n",
    "\n",
    "plot_costFun(1, 10)\n",
    "comp_sensi_vector(1)\n",
    "\n",
    "def function2(k=10.):\n",
    "    plot_costFun(2, k)\n",
    "    comp_sensi_vector(2, k)\n",
    "interact(function2, k=(0.1,10.,1.))"
   ]
  },
  {
   "cell_type": "markdown",
   "metadata": {},
   "source": [
    "As you can see function 1 presents a large value of $I$ which is consistent with the fact that the problem is ill posed. On the contrary, function 2 has a value lower than 2 and the problem is well posed. To better feel the influence of the cost function shape on $I$, you can play with the value of $k$ for function 2."
   ]
  },
  {
   "cell_type": "markdown",
   "metadata": {},
   "source": [
    "## Colinearity and noise\n",
    "----\n",
    "\n",
    "The indicator $I$ mainly gives two important information:\n",
    "- Is the function sensitive to every parameters with the same strength ?\n",
    "- Do every parameter have uncorrelated influences on $f$\n",
    "\n",
    "Indeed, if we look at function $f^1$ defined above, a variation of $5\\%$ of $a$ or $b$ would have the exact same effect on function $f$: the sensitivity vectors of these two parameters are collinear. Therefore it would not be possible to differentiate the effect of $a$ or $b$ which is another way to understand why the problem is ill posed.\n",
    "\n",
    "To undertand the importance of collinearity, let's plot the sensitivity vectors of function $f^1$ in python for a variation of $a$ and $b$ of $5\\%$ and take a look at the value of $I$ (do not touch the cursor yet ;)):"
   ]
  },
  {
   "cell_type": "code",
   "execution_count": 6,
   "metadata": {},
   "outputs": [
    {
     "name": "stdout",
     "output_type": "stream",
     "text": [
      "Noise amplitude\n"
     ]
    },
    {
     "data": {
      "application/vnd.jupyter.widget-view+json": {
       "model_id": "8e331cf05d25403ebb8638b8eb4333fd",
       "version_major": 2,
       "version_minor": 0
      },
      "text/plain": [
       "interactive(children=(FloatSlider(value=0.0, description='noise_amp', max=0.5, step=0.01), Output()), _dom_cla…"
      ]
     },
     "metadata": {},
     "output_type": "display_data"
    }
   ],
   "source": [
    "def noise(b,t):\n",
    "    '''Sinusoidal noise of amplitude b and frequency w'''\n",
    "    return np.random.normal(0., b, len(t))\n",
    "    \n",
    "def comp_sensi_noise(noise_amp=0., funNum=1):\n",
    "    a = 2.\n",
    "    b = 2.  \n",
    "    w = math.pi*8\n",
    "    T = 100\n",
    "    eps = 0.05\n",
    "    t = np.linspace(0,5,T)\n",
    "    U = test_fun(a, b, t, funNum, 10) + noise(noise_amp,t)\n",
    "    U_5pc = test_fun((1.+eps)*a, b, t, funNum, 10) + noise(noise_amp,t)\n",
    "    U_5pc_noise = test_fun(a, (1.+eps) * b, t, funNum, 10) + noise(noise_amp,t)\n",
    "\n",
    "    plt.figure(figsize=(14,6))\n",
    "    plt.subplot(121)\n",
    "    plt.title(\"Function f\")\n",
    "    plt.plot(t, U, label=\"$f_{a,b}(t)$\")\n",
    "    plt.plot(t, U_5pc, label=\"$f_{1.05*a,b}(t)$\")\n",
    "    plt.plot(t, U_5pc_noise, label=\"$f_{a,1.05*b}(t)$\")\n",
    "    plt.xlabel(\"t\")\n",
    "    plt.ylabel(\"f(t)\")\n",
    "    plt.legend()\n",
    "\n",
    "    plt.subplot(122)\n",
    "    plt.title(\"Sensitivity variation\")\n",
    "    dSdX = np.zeros((2,T))\n",
    "    dSdX[0,:] = (U_5pc - U)/(eps * math.sqrt(T) * np.max(U))\n",
    "    dSdX[1,:] = (U_5pc_noise - U)/(eps * math.sqrt(T) * np.max(U))\n",
    "    plt.plot(t, dSdX[0], label=\"$f_{1.05*a,b}(t)$\")\n",
    "    plt.plot(t, dSdX[1], label=\"$f_{a,1.05*b}(t)$\")\n",
    "    plt.xlabel(\"t\")\n",
    "    plt.ylabel(\"$df/d\\\\theta$\")\n",
    "    plt.legend()\n",
    "    plt.show()\n",
    "    \n",
    "    I = comp_I_bin(dSdX)\n",
    "    print(\"Value of I: {:.02f}\".format(I))\n",
    "\n",
    " \n",
    "print(\"Noise amplitude\")\n",
    "interact(comp_sensi_noise, noise_amp=(0.,0.5,0.01), funNum=fixed(1))\n",
    "\n",
    "plt.close()"
   ]
  },
  {
   "cell_type": "markdown",
   "metadata": {},
   "source": [
    "As you can see, the sensitivity vectors of the two variables (shown on the right) are exactly the same. This result in a very bad value of $I$ (16.17).\n",
    "\n",
    "Now, let's push the slider and add some gaussian noise to function $f^1$ ! As you're pushing the slider up, you can see that it artificially decorelates the two sensitivity vectors. Consequently, the noisier, the better the value of $I$\n",
    "\n",
    "However, this does not mean that the problem becomes well-posed, as our function remains the same. In some cases, numerical noise could happen just because of iteration residuals, interpolation errors, etc... The value of $I$ should therefore always be taken with great care."
   ]
  }
 ],
 "metadata": {
  "kernelspec": {
   "display_name": "Python 3",
   "language": "python",
   "name": "python3"
  },
  "language_info": {
   "codemirror_mode": {
    "name": "ipython",
    "version": 3
   },
   "file_extension": ".py",
   "mimetype": "text/x-python",
   "name": "python",
   "nbconvert_exporter": "python",
   "pygments_lexer": "ipython3",
   "version": "3.8.4"
  }
 },
 "nbformat": 4,
 "nbformat_minor": 4
}
