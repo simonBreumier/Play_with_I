{
 "cells": [
  {
   "cell_type": "markdown",
   "metadata": {},
   "source": [
    "# Playing with I\n",
    "----"
   ]
  },
  {
   "cell_type": "code",
   "execution_count": 11,
   "metadata": {},
   "outputs": [
    {
     "name": "stdout",
     "output_type": "stream",
     "text": [
      "Noise amplitude\n"
     ]
    },
    {
     "data": {
      "application/vnd.jupyter.widget-view+json": {
       "model_id": "21226dd70cd04c739f6741a5d5482877",
       "version_major": 2,
       "version_minor": 0
      },
      "text/plain": [
       "interactive(children=(FloatSlider(value=0.0, description='noise_amp', max=0.5, step=0.01), Output()), _dom_cla…"
      ]
     },
     "metadata": {},
     "output_type": "display_data"
    },
    {
     "data": {
      "image/png": "[encoded data removed]",
      "text/plain": [
       "<Figure size 432x288 with 2 Axes>"
      ]
     },
     "metadata": {
      "needs_background": "light"
     },
     "output_type": "display_data"
    }
   ],
   "source": [
    "import numpy as np\n",
    "import matplotlib.pyplot as plt\n",
    "import math\n",
    "from __future__ import print_function\n",
    "from ipywidgets import interact, interactive, fixed, interact_manual\n",
    "import ipywidgets as widgets\n",
    "\n",
    "\n",
    "def test_fun(a, b, x):\n",
    "    '''Basic test function with two parameters a and b'''\n",
    "    return a * b * x**2\n",
    "\n",
    "def noise(b,t):\n",
    "    '''Sinusoidal noise of amplitude b and frequency w'''\n",
    "    return np.random.normal(0,b,len(t))\n",
    "    \n",
    "def comp_I_bin(dXdT):\n",
    "    '''Computes the identifiability indicator from a given sensitivity matrix'''\n",
    "    numVars = dXdT.shape[0]\n",
    "    H = np.zeros((numVars, numVars))\n",
    "    T = dXdT.shape[1]\n",
    "    for i in range(0,numVars):\n",
    "        for j in range(0,numVars):\n",
    "            H[i,j] = np.nansum(dXdT[i]*dXdT[j])\n",
    "\n",
    "    lams = np.linalg.eigvals(H)\n",
    "    I = np.log10(np.max(lams)/np.min(lams))\n",
    "    return I\n",
    "\n",
    "def plot_costFun():\n",
    "    a=2\n",
    "    b=2\n",
    "    T = 100\n",
    "    t = np.linspace(0,5,T)\n",
    "    U = test_fun(a, b, t)\n",
    "    a_grid = np.linspace(1.,5.,100)\n",
    "    b_grid = np.linspace(1.,5.,100)\n",
    "    A, B = np.meshgrid(a_grid, b_grid)\n",
    "    costFun = np.zeros((100, 100))\n",
    "    for i in range(0, 100):\n",
    "        for j in range(0, 100):\n",
    "            funVal = test_fun(A[i,j], B[i,j], t)\n",
    "            costFun[i, j] = math.sqrt(np.sum((funVal - U)**2)/T)\n",
    "    plt.figure()\n",
    "    plt.contourf(A, B, np.log(costFun), 50)\n",
    "    plt.xlabel(\"Parameter a\")\n",
    "    plt.ylabel(\"Parameter b\")\n",
    "    plt.title(\"Log of the cost function\")\n",
    "    plt.colorbar()\n",
    "    plt.show()\n",
    "    plt.close()\n",
    "\n",
    "def comp_sensi_vector(noise_amp=0.):\n",
    "    a = 2.\n",
    "    b = 2.  \n",
    "    T = 100\n",
    "    eps = 0.05\n",
    "    t = np.linspace(0,5,T)\n",
    "    U = test_fun(a, b, t) + noise(noise_amp, t)\n",
    "    U_5pc = test_fun((1.+eps)*a, b, t) + noise(noise_amp, t)\n",
    "    U_5pc_noise = test_fun(a, (1.+eps) * b, t) + noise(noise_amp, t)\n",
    "\n",
    "    plt.figure(figsize=(14,6))\n",
    "    plt.subplot(121)\n",
    "    plt.title(\"Function f\")\n",
    "    plt.plot(t, U, label=\"$f_{a,b}(t)$\")\n",
    "    plt.plot(t, U_5pc, label=\"$f_{1.05*a,b}(t)$\")\n",
    "    plt.plot(t, U_5pc_noise, label=\"$f_{a,1.05*b}(t)+noise$\")\n",
    "    plt.xlabel(\"t\")\n",
    "    plt.ylabel(\"f(t)\")\n",
    "    plt.legend()\n",
    "\n",
    "    plt.subplot(122)\n",
    "    plt.title(\"Sensitivity variation\")\n",
    "    dSdX = np.zeros((2,T))\n",
    "    dSdX[0,:] = (U_5pc - U)/(eps * math.sqrt(T) * np.max(U))\n",
    "    dSdX[1,:] = (U_5pc_noise - U)/(eps * math.sqrt(T) * np.max(U))\n",
    "    plt.plot(t, dSdX[0], label=\"$f_{1.05*a,b}(t)$\")\n",
    "    plt.plot(t, dSdX[1], label=\"$f_{a,1.05*b}(t)+noise$\")\n",
    "    plt.xlabel(\"t\")\n",
    "    plt.ylabel(\"$df/d\\\\theta$\")\n",
    "    plt.legend()\n",
    "    plt.show()\n",
    "    plt.close()\n",
    "    \n",
    "    I = comp_I_bin(dSdX)\n",
    "    print(\"Value of I: {:.02f}\".format(I))\n",
    "\n",
    " \n",
    "print(\"Noise amplitude\")\n",
    "interact(comp_sensi_vector, noise_amp=(0.,0.5,0.01))\n",
    "\n",
    "plot_costFun()\n",
    "\n"
   ]
  }
 ],
 "metadata": {
  "kernelspec": {
   "display_name": "Python 3",
   "language": "python",
   "name": "python3"
  },
  "language_info": {
   "codemirror_mode": {
    "name": "ipython",
    "version": 3
   },
   "file_extension": ".py",
   "mimetype": "text/x-python",
   "name": "python",
   "nbconvert_exporter": "python",
   "pygments_lexer": "ipython3",
   "version": "3.8.2"
  }
 },
 "nbformat": 4,
 "nbformat_minor": 4
}
